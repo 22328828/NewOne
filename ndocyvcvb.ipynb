{
 "cells": [
  {
   "cell_type": "code",
   "execution_count": null,
   "id": "d380940a-1316-498a-b436-1f148bc00c3f",
   "metadata": {},
   "outputs": [],
   "source": [
    "Binary search is faster compared to linear search, linear search is slower.\n",
    "\n",
    "Binary search is used in a sorted array or list by repeatedly dividing\n",
    "the search interval in half.\n",
    "• The idea of binary search is to use the information that the array is sorted and reduce\n",
    "the time complexity to O(log N).\n",
    "• It works by repeatedly dividing the search interval in half until the target value is found or\n",
    "the interval is empty.\n",
    "• The search interval is halved by comparing the target element with the middle value of\n",
    "the search space.\n",
    "\n",
    "\n",
    "Linear search \n",
    "is defined as a\n",
    "sequential search algorithm that\n",
    "starts at one end and goes through\n",
    "each element of a list until the\n",
    "desired element is found, otherwise\n",
    "the search continues till the end of\n",
    "the data set."
   ]
  }
 ],
 "metadata": {
  "kernelspec": {
   "display_name": "Python 3 (ipykernel)",
   "language": "python",
   "name": "python3"
  },
  "language_info": {
   "codemirror_mode": {
    "name": "ipython",
    "version": 3
   },
   "file_extension": ".py",
   "mimetype": "text/x-python",
   "name": "python",
   "nbconvert_exporter": "python",
   "pygments_lexer": "ipython3",
   "version": "3.12.3"
  }
 },
 "nbformat": 4,
 "nbformat_minor": 5
}
